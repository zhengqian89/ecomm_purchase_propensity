{
 "cells": [
  {
   "cell_type": "code",
   "execution_count": 3,
   "id": "dc6b3f0f",
   "metadata": {},
   "outputs": [],
   "source": [
    "import sys\n",
    "import os\n",
    "from pathlib import Path\n",
    "\n",
    "# Add src to the module search path\n",
    "current_dir = os.getcwd()\n",
    "src_dir = os.path.abspath(os.path.join(current_dir, '..'))\n",
    "\n",
    "if src_dir not in sys.path:\n",
    "    sys.path.append(src_dir)"
   ]
  },
  {
   "cell_type": "code",
   "execution_count": 4,
   "id": "907f4f47",
   "metadata": {},
   "outputs": [],
   "source": [
    "import pandas as pd\n",
    "import polars as pl\n",
    "from src.utils.config_loader import config_loader\n",
    "from src.data_ingestion.loader import DataLoader\n",
    "import seaborn as sns\n",
    "import matplotlib.pyplot as plt\n",
    "\n",
    "\n",
    "pd.set_option('display.max_columns', None)\n",
    "pd.set_option('display.max_rows', None)\n",
    "pd.set_option('display.expand_frame_repr', False)"
   ]
  },
  {
   "cell_type": "code",
   "execution_count": 5,
   "id": "dbc19c83",
   "metadata": {},
   "outputs": [],
   "source": [
    "ROOTPATH = Path.cwd().parent\n",
    "RAW_DATA_PATH = ROOTPATH / config_loader.get_data_paths()['raw_data_path']\n",
    "PROCESSED_DATA_PATH = ROOTPATH / config_loader.get_data_paths()['processed_data_path']"
   ]
  },
  {
   "cell_type": "markdown",
   "id": "99ef5044",
   "metadata": {},
   "source": [
    "# Dataset Setup: Load, Preprocess, and Save"
   ]
  },
  {
   "cell_type": "code",
   "execution_count": 6,
   "id": "a4f155b1",
   "metadata": {},
   "outputs": [],
   "source": [
    "# Instatiate DataLoader\n",
    "dataloader = DataLoader()"
   ]
  },
  {
   "cell_type": "markdown",
   "id": "ac706947",
   "metadata": {},
   "source": [
    "Run these cells only once"
   ]
  },
  {
   "cell_type": "code",
   "execution_count": 7,
   "id": "4a6b6330",
   "metadata": {},
   "outputs": [],
   "source": [
    "# # Load the raw .csv\n",
    "# df = dataloader.load_raw_data(RAW_DATA_PATH / 'UserBehavior.csv')"
   ]
  },
  {
   "cell_type": "code",
   "execution_count": 8,
   "id": "ebdaca06",
   "metadata": {},
   "outputs": [],
   "source": [
    "# # Preprocess the raw DataFrame\n",
    "# df = dataloader.preprocess_data(df)"
   ]
  },
  {
   "cell_type": "code",
   "execution_count": 9,
   "id": "2c1f65ba",
   "metadata": {},
   "outputs": [],
   "source": [
    "# # Save preprocessed DataFrame in the format of .parquet\n",
    "# dataloader.save_preprocessed_parquet(\n",
    "#     df=df,\n",
    "#     folder_path=PROCESSED_DATA_PATH,\n",
    "#     filename='preprocessed.parquet'\n",
    "# )"
   ]
  },
  {
   "cell_type": "code",
   "execution_count": 10,
   "id": "382e46f8",
   "metadata": {},
   "outputs": [],
   "source": [
    "df = pl.read_parquet(PROCESSED_DATA_PATH / 'preprocessed.parquet')\n",
    "# df = pd.read_parquet(PROCESSED_DATA_PATH / 'preprocessed.parquet')"
   ]
  },
  {
   "cell_type": "markdown",
   "id": "47da8e6c",
   "metadata": {},
   "source": [
    "# Exploratory Data Analysis"
   ]
  },
  {
   "cell_type": "markdown",
   "id": "14554512",
   "metadata": {},
   "source": [
    "### (a) Data Inspection"
   ]
  },
  {
   "cell_type": "code",
   "execution_count": 11,
   "id": "505db0f3",
   "metadata": {},
   "outputs": [
    {
     "data": {
      "text/html": [
       "<div><style>\n",
       ".dataframe > thead > tr,\n",
       ".dataframe > tbody > tr {\n",
       "  text-align: right;\n",
       "  white-space: pre-wrap;\n",
       "}\n",
       "</style>\n",
       "<small>shape: (5, 9)</small><table border=\"1\" class=\"dataframe\"><thead><tr><th>user_id</th><th>item_id</th><th>category_id</th><th>behavior_type</th><th>timestamp</th><th>datetime</th><th>hour</th><th>day_of_week</th><th>date</th></tr><tr><td>i64</td><td>i64</td><td>i64</td><td>str</td><td>i64</td><td>datetime[ns]</td><td>i32</td><td>i32</td><td>date</td></tr></thead><tbody><tr><td>1</td><td>2576651</td><td>149192</td><td>&quot;pv&quot;</td><td>1511572885</td><td>2017-11-25 01:21:25</td><td>1</td><td>5</td><td>2017-11-25</td></tr><tr><td>1</td><td>3830808</td><td>4181361</td><td>&quot;pv&quot;</td><td>1511593493</td><td>2017-11-25 07:04:53</td><td>7</td><td>5</td><td>2017-11-25</td></tr><tr><td>1</td><td>4365585</td><td>2520377</td><td>&quot;pv&quot;</td><td>1511596146</td><td>2017-11-25 07:49:06</td><td>7</td><td>5</td><td>2017-11-25</td></tr><tr><td>1</td><td>4606018</td><td>2735466</td><td>&quot;pv&quot;</td><td>1511616481</td><td>2017-11-25 13:28:01</td><td>13</td><td>5</td><td>2017-11-25</td></tr><tr><td>1</td><td>230380</td><td>411153</td><td>&quot;pv&quot;</td><td>1511644942</td><td>2017-11-25 21:22:22</td><td>21</td><td>5</td><td>2017-11-25</td></tr></tbody></table></div>"
      ],
      "text/plain": [
       "shape: (5, 9)\n",
       "┌─────────┬─────────┬─────────────┬─────────────┬───┬─────────────┬──────┬────────────┬────────────┐\n",
       "│ user_id ┆ item_id ┆ category_id ┆ behavior_ty ┆ … ┆ datetime    ┆ hour ┆ day_of_wee ┆ date       │\n",
       "│ ---     ┆ ---     ┆ ---         ┆ pe          ┆   ┆ ---         ┆ ---  ┆ k          ┆ ---        │\n",
       "│ i64     ┆ i64     ┆ i64         ┆ ---         ┆   ┆ datetime[ns ┆ i32  ┆ ---        ┆ date       │\n",
       "│         ┆         ┆             ┆ str         ┆   ┆ ]           ┆      ┆ i32        ┆            │\n",
       "╞═════════╪═════════╪═════════════╪═════════════╪═══╪═════════════╪══════╪════════════╪════════════╡\n",
       "│ 1       ┆ 2576651 ┆ 149192      ┆ pv          ┆ … ┆ 2017-11-25  ┆ 1    ┆ 5          ┆ 2017-11-25 │\n",
       "│         ┆         ┆             ┆             ┆   ┆ 01:21:25    ┆      ┆            ┆            │\n",
       "│ 1       ┆ 3830808 ┆ 4181361     ┆ pv          ┆ … ┆ 2017-11-25  ┆ 7    ┆ 5          ┆ 2017-11-25 │\n",
       "│         ┆         ┆             ┆             ┆   ┆ 07:04:53    ┆      ┆            ┆            │\n",
       "│ 1       ┆ 4365585 ┆ 2520377     ┆ pv          ┆ … ┆ 2017-11-25  ┆ 7    ┆ 5          ┆ 2017-11-25 │\n",
       "│         ┆         ┆             ┆             ┆   ┆ 07:49:06    ┆      ┆            ┆            │\n",
       "│ 1       ┆ 4606018 ┆ 2735466     ┆ pv          ┆ … ┆ 2017-11-25  ┆ 13   ┆ 5          ┆ 2017-11-25 │\n",
       "│         ┆         ┆             ┆             ┆   ┆ 13:28:01    ┆      ┆            ┆            │\n",
       "│ 1       ┆ 230380  ┆ 411153      ┆ pv          ┆ … ┆ 2017-11-25  ┆ 21   ┆ 5          ┆ 2017-11-25 │\n",
       "│         ┆         ┆             ┆             ┆   ┆ 21:22:22    ┆      ┆            ┆            │\n",
       "└─────────┴─────────┴─────────────┴─────────────┴───┴─────────────┴──────┴────────────┴────────────┘"
      ]
     },
     "execution_count": 11,
     "metadata": {},
     "output_type": "execute_result"
    }
   ],
   "source": [
    "df.head()"
   ]
  },
  {
   "cell_type": "markdown",
   "id": "e20eb76c",
   "metadata": {},
   "source": [
    "### (b) Summary Statistics"
   ]
  },
  {
   "cell_type": "code",
   "execution_count": 12,
   "id": "78b70260",
   "metadata": {},
   "outputs": [
    {
     "data": {
      "text/html": [
       "<div><style>\n",
       ".dataframe > thead > tr,\n",
       ".dataframe > tbody > tr {\n",
       "  text-align: right;\n",
       "  white-space: pre-wrap;\n",
       "}\n",
       "</style>\n",
       "<small>shape: (9, 10)</small><table border=\"1\" class=\"dataframe\"><thead><tr><th>statistic</th><th>user_id</th><th>item_id</th><th>category_id</th><th>behavior_type</th><th>timestamp</th><th>datetime</th><th>hour</th><th>day_of_week</th><th>date</th></tr><tr><td>str</td><td>f64</td><td>f64</td><td>f64</td><td>str</td><td>f64</td><td>str</td><td>f64</td><td>f64</td><td>str</td></tr></thead><tbody><tr><td>&quot;count&quot;</td><td>9.8914533e7</td><td>9.8914533e7</td><td>9.8914533e7</td><td>&quot;98914533&quot;</td><td>9.8914533e7</td><td>&quot;98914533&quot;</td><td>9.8914533e7</td><td>9.8914533e7</td><td>&quot;98914533&quot;</td></tr><tr><td>&quot;null_count&quot;</td><td>0.0</td><td>0.0</td><td>0.0</td><td>&quot;0&quot;</td><td>0.0</td><td>&quot;0&quot;</td><td>0.0</td><td>0.0</td><td>&quot;0&quot;</td></tr><tr><td>&quot;mean&quot;</td><td>506866.401576</td><td>2.5798e6</td><td>2.6966e6</td><td>null</td><td>1.5120e9</td><td>&quot;2017-11-29 14:36:41.987002&quot;</td><td>9.530052</td><td>3.682862</td><td>&quot;2017-11-29 04:34:52.154000&quot;</td></tr><tr><td>&quot;std&quot;</td><td>294069.227894</td><td>1.4881e6</td><td>1.4632e6</td><td>null</td><td>227051.898454</td><td>null</td><td>5.505344</td><td>2.02503</td><td>null</td></tr><tr><td>&quot;min&quot;</td><td>1.0</td><td>1.0</td><td>80.0</td><td>&quot;buy&quot;</td><td>1.5116e9</td><td>&quot;2017-11-25 00:00:00&quot;</td><td>0.0</td><td>0.0</td><td>&quot;2017-11-25&quot;</td></tr><tr><td>&quot;25%&quot;</td><td>252355.0</td><td>1.295244e6</td><td>1.320293e6</td><td>null</td><td>1.5118e9</td><td>&quot;2017-11-27 07:35:16&quot;</td><td>5.0</td><td>2.0</td><td>&quot;2017-11-27&quot;</td></tr><tr><td>&quot;50%&quot;</td><td>503892.0</td><td>2.580632e6</td><td>2.671397e6</td><td>null</td><td>1.5120e9</td><td>&quot;2017-11-29 14:53:26&quot;</td><td>10.0</td><td>4.0</td><td>&quot;2017-11-29&quot;</td></tr><tr><td>&quot;75%&quot;</td><td>760856.0</td><td>3.862029e6</td><td>4.145813e6</td><td>null</td><td>1.5122e9</td><td>&quot;2017-12-02 02:15:28&quot;</td><td>14.0</td><td>5.0</td><td>&quot;2017-12-02&quot;</td></tr><tr><td>&quot;max&quot;</td><td>1.018011e6</td><td>5.16307e6</td><td>5.162429e6</td><td>&quot;pv&quot;</td><td>1.5123e9</td><td>&quot;2017-12-03 23:52:41&quot;</td><td>23.0</td><td>6.0</td><td>&quot;2017-12-03&quot;</td></tr></tbody></table></div>"
      ],
      "text/plain": [
       "shape: (9, 10)\n",
       "┌───────────┬───────────┬───────────┬───────────┬───┬───────────┬───────────┬───────────┬──────────┐\n",
       "│ statistic ┆ user_id   ┆ item_id   ┆ category_ ┆ … ┆ datetime  ┆ hour      ┆ day_of_we ┆ date     │\n",
       "│ ---       ┆ ---       ┆ ---       ┆ id        ┆   ┆ ---       ┆ ---       ┆ ek        ┆ ---      │\n",
       "│ str       ┆ f64       ┆ f64       ┆ ---       ┆   ┆ str       ┆ f64       ┆ ---       ┆ str      │\n",
       "│           ┆           ┆           ┆ f64       ┆   ┆           ┆           ┆ f64       ┆          │\n",
       "╞═══════════╪═══════════╪═══════════╪═══════════╪═══╪═══════════╪═══════════╪═══════════╪══════════╡\n",
       "│ count     ┆ 9.8914533 ┆ 9.8914533 ┆ 9.8914533 ┆ … ┆ 98914533  ┆ 9.8914533 ┆ 9.8914533 ┆ 98914533 │\n",
       "│           ┆ e7        ┆ e7        ┆ e7        ┆   ┆           ┆ e7        ┆ e7        ┆          │\n",
       "│ null_coun ┆ 0.0       ┆ 0.0       ┆ 0.0       ┆ … ┆ 0         ┆ 0.0       ┆ 0.0       ┆ 0        │\n",
       "│ t         ┆           ┆           ┆           ┆   ┆           ┆           ┆           ┆          │\n",
       "│ mean      ┆ 506866.40 ┆ 2.5798e6  ┆ 2.6966e6  ┆ … ┆ 2017-11-2 ┆ 9.530052  ┆ 3.682862  ┆ 2017-11- │\n",
       "│           ┆ 1576      ┆           ┆           ┆   ┆ 9 14:36:4 ┆           ┆           ┆ 29 04:34 │\n",
       "│           ┆           ┆           ┆           ┆   ┆ 1.987002  ┆           ┆           ┆ :52.1540 │\n",
       "│           ┆           ┆           ┆           ┆   ┆           ┆           ┆           ┆ 00       │\n",
       "│ std       ┆ 294069.22 ┆ 1.4881e6  ┆ 1.4632e6  ┆ … ┆ null      ┆ 5.505344  ┆ 2.02503   ┆ null     │\n",
       "│           ┆ 7894      ┆           ┆           ┆   ┆           ┆           ┆           ┆          │\n",
       "│ min       ┆ 1.0       ┆ 1.0       ┆ 80.0      ┆ … ┆ 2017-11-2 ┆ 0.0       ┆ 0.0       ┆ 2017-11- │\n",
       "│           ┆           ┆           ┆           ┆   ┆ 5         ┆           ┆           ┆ 25       │\n",
       "│           ┆           ┆           ┆           ┆   ┆ 00:00:00  ┆           ┆           ┆          │\n",
       "│ 25%       ┆ 252355.0  ┆ 1.295244e ┆ 1.320293e ┆ … ┆ 2017-11-2 ┆ 5.0       ┆ 2.0       ┆ 2017-11- │\n",
       "│           ┆           ┆ 6         ┆ 6         ┆   ┆ 7         ┆           ┆           ┆ 27       │\n",
       "│           ┆           ┆           ┆           ┆   ┆ 07:35:16  ┆           ┆           ┆          │\n",
       "│ 50%       ┆ 503892.0  ┆ 2.580632e ┆ 2.671397e ┆ … ┆ 2017-11-2 ┆ 10.0      ┆ 4.0       ┆ 2017-11- │\n",
       "│           ┆           ┆ 6         ┆ 6         ┆   ┆ 9         ┆           ┆           ┆ 29       │\n",
       "│           ┆           ┆           ┆           ┆   ┆ 14:53:26  ┆           ┆           ┆          │\n",
       "│ 75%       ┆ 760856.0  ┆ 3.862029e ┆ 4.145813e ┆ … ┆ 2017-12-0 ┆ 14.0      ┆ 5.0       ┆ 2017-12- │\n",
       "│           ┆           ┆ 6         ┆ 6         ┆   ┆ 2         ┆           ┆           ┆ 02       │\n",
       "│           ┆           ┆           ┆           ┆   ┆ 02:15:28  ┆           ┆           ┆          │\n",
       "│ max       ┆ 1.018011e ┆ 5.16307e6 ┆ 5.162429e ┆ … ┆ 2017-12-0 ┆ 23.0      ┆ 6.0       ┆ 2017-12- │\n",
       "│           ┆ 6         ┆           ┆ 6         ┆   ┆ 3         ┆           ┆           ┆ 03       │\n",
       "│           ┆           ┆           ┆           ┆   ┆ 23:52:41  ┆           ┆           ┆          │\n",
       "└───────────┴───────────┴───────────┴───────────┴───┴───────────┴───────────┴───────────┴──────────┘"
      ]
     },
     "execution_count": 12,
     "metadata": {},
     "output_type": "execute_result"
    }
   ],
   "source": [
    "df.describe()"
   ]
  },
  {
   "cell_type": "markdown",
   "id": "f84df573",
   "metadata": {},
   "source": [
    "### (c) Null Values"
   ]
  },
  {
   "cell_type": "code",
   "execution_count": null,
   "id": "8256b86b",
   "metadata": {},
   "outputs": [],
   "source": []
  }
 ],
 "metadata": {
  "kernelspec": {
   "display_name": "venv",
   "language": "python",
   "name": "python3"
  },
  "language_info": {
   "codemirror_mode": {
    "name": "ipython",
    "version": 3
   },
   "file_extension": ".py",
   "mimetype": "text/x-python",
   "name": "python",
   "nbconvert_exporter": "python",
   "pygments_lexer": "ipython3",
   "version": "3.9.6"
  }
 },
 "nbformat": 4,
 "nbformat_minor": 5
}
