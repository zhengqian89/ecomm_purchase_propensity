{
 "cells": [
  {
   "cell_type": "code",
   "execution_count": 5,
   "id": "dc6b3f0f",
   "metadata": {},
   "outputs": [],
   "source": [
    "import sys\n",
    "import os\n",
    "from pathlib import Path\n",
    "\n",
    "# Add src to the module search path\n",
    "current_dir = os.getcwd()\n",
    "src_dir = os.path.abspath(os.path.join(current_dir, '..'))\n",
    "\n",
    "if src_dir not in sys.path:\n",
    "    sys.path.append(src_dir)"
   ]
  },
  {
   "cell_type": "code",
   "execution_count": 6,
   "id": "907f4f47",
   "metadata": {},
   "outputs": [],
   "source": [
    "import pandas as pd\n",
    "from src.utils.config_loader import config_loader\n",
    "from src.data_ingestion.loader import DataLoader\n",
    "import seaborn as sns\n",
    "import matplotlib.pyplot as plt\n",
    "\n",
    "\n",
    "pd.set_option('display.max_columns', None)\n",
    "pd.set_option('display.max_rows', None)\n",
    "pd.set_option('display.expand_frame_repr', False)"
   ]
  },
  {
   "cell_type": "code",
   "execution_count": 7,
   "id": "dbc19c83",
   "metadata": {},
   "outputs": [],
   "source": [
    "ROOTPATH = Path.cwd().parent\n",
    "RAW_DATA_PATH = ROOTPATH / config_loader.get_data_paths()['raw_data_path']\n",
    "PROCESSED_DATA_PATH = ROOTPATH / config_loader.get_data_paths()['processed_data_path']"
   ]
  },
  {
   "cell_type": "markdown",
   "id": "99ef5044",
   "metadata": {},
   "source": [
    "# Dataset Setup: Load, Preprocess, and Save"
   ]
  },
  {
   "cell_type": "code",
   "execution_count": 8,
   "id": "a4f155b1",
   "metadata": {},
   "outputs": [],
   "source": [
    "# Instatiate DataLoader\n",
    "dataloader = DataLoader()"
   ]
  },
  {
   "cell_type": "markdown",
   "id": "ac706947",
   "metadata": {},
   "source": [
    "Run these cells only once"
   ]
  },
  {
   "cell_type": "code",
   "execution_count": 9,
   "id": "4a6b6330",
   "metadata": {},
   "outputs": [],
   "source": [
    "# # Load the raw .csv\n",
    "# df = dataloader.load_raw_data(RAW_DATA_PATH / 'UserBehavior.csv')"
   ]
  },
  {
   "cell_type": "code",
   "execution_count": 10,
   "id": "ebdaca06",
   "metadata": {},
   "outputs": [],
   "source": [
    "# # Preprocess the raw DataFrame\n",
    "# df = dataloader.preprocess_data(df)"
   ]
  },
  {
   "cell_type": "code",
   "execution_count": 11,
   "id": "2c1f65ba",
   "metadata": {},
   "outputs": [],
   "source": [
    "# # Save preprocessed DataFrame in the format of .parquet\n",
    "# dataloader.save_preprocessed_parquet(\n",
    "#     df=df,\n",
    "#     folder_path=PROCESSED_DATA_PATH,\n",
    "#     filename='preprocessed.parquet'\n",
    "# )"
   ]
  },
  {
   "cell_type": "code",
   "execution_count": null,
   "id": "382e46f8",
   "metadata": {},
   "outputs": [],
   "source": [
    "df = pd.read_parquet(PROCESSED_DATA_PATH / 'preprocessed.parquet')"
   ]
  },
  {
   "cell_type": "markdown",
   "id": "47da8e6c",
   "metadata": {},
   "source": [
    "# Exploratory Data Analysis"
   ]
  }
 ],
 "metadata": {
  "kernelspec": {
   "display_name": "base",
   "language": "python",
   "name": "python3"
  },
  "language_info": {
   "codemirror_mode": {
    "name": "ipython",
    "version": 3
   },
   "file_extension": ".py",
   "mimetype": "text/x-python",
   "name": "python",
   "nbconvert_exporter": "python",
   "pygments_lexer": "ipython3",
   "version": "3.12.2"
  }
 },
 "nbformat": 4,
 "nbformat_minor": 5
}
